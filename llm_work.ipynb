{
 "cells": [
  {
   "cell_type": "code",
   "execution_count": null,
   "id": "4ea3e74e",
   "metadata": {},
   "outputs": [],
   "source": [
    "# Work flow of the LLM/LangGraph\n",
    "# Author: Muhammad Humayun Khan\n",
    "\n",
    "from langgraph.graph import StateGraph,START,END\n",
    "from typing import TypedDict\n",
    "from langchain_openai import ChatOpenAI\n",
    "from dotenv import load_dotenv"
   ]
  },
  {
   "cell_type": "code",
   "execution_count": 22,
   "id": "c123df3b",
   "metadata": {},
   "outputs": [],
   "source": [
    "# load the key and the model\n",
    "load_dotenv()\n",
    "model = ChatOpenAI()"
   ]
  },
  {
   "cell_type": "code",
   "execution_count": null,
   "id": "50adeced",
   "metadata": {},
   "outputs": [],
   "source": [
    "# Create the State which is actually a class having question and its answer\n",
    "class Question_Answer(TypedDict):\n",
    "    question:str\n",
    "    answer:str"
   ]
  },
  {
   "cell_type": "code",
   "execution_count": 24,
   "id": "82c65355",
   "metadata": {},
   "outputs": [],
   "source": [
    "graph = StateGraph(Question_Answer)"
   ]
  },
  {
   "cell_type": "code",
   "execution_count": 25,
   "id": "37f965dc",
   "metadata": {},
   "outputs": [],
   "source": [
    "# function to be called for the question_answer_node\n",
    "def question_answer_func(state:Question_Answer) -> Question_Answer:\n",
    "    question = state['question']       # extrat the question from the state\n",
    "    prompt = f'Provide answer to the question {question}'\n",
    "    response_llm = model.invoke(prompt).content\n",
    "\n",
    "    state['answer'] = response_llm\n",
    "\n",
    "    return state"
   ]
  },
  {
   "cell_type": "code",
   "execution_count": 26,
   "id": "6e7d78d8",
   "metadata": {},
   "outputs": [
    {
     "data": {
      "text/plain": [
       "<langgraph.graph.state.StateGraph at 0x143d0ae7c10>"
      ]
     },
     "execution_count": 26,
     "metadata": {},
     "output_type": "execute_result"
    }
   ],
   "source": [
    "# add nodes to the graph\n",
    "graph.add_node('question_answer_node',question_answer_func)"
   ]
  },
  {
   "cell_type": "code",
   "execution_count": 27,
   "id": "272304f7",
   "metadata": {},
   "outputs": [
    {
     "data": {
      "text/plain": [
       "<langgraph.graph.state.StateGraph at 0x143d0ae7c10>"
      ]
     },
     "execution_count": 27,
     "metadata": {},
     "output_type": "execute_result"
    }
   ],
   "source": [
    "# add edges to the graph\n",
    "graph.add_edge(START,'question_answer_node')\n",
    "graph.add_edge('question_answer_node',END)"
   ]
  },
  {
   "cell_type": "code",
   "execution_count": 28,
   "id": "b5a9b800",
   "metadata": {},
   "outputs": [
    {
     "data": {
      "image/png": "[encoded data removed]",
      "text/plain": [
       "<langgraph.graph.state.CompiledStateGraph object at 0x00000143D0AE7F70>"
      ]
     },
     "execution_count": 28,
     "metadata": {},
     "output_type": "execute_result"
    }
   ],
   "source": [
    "# compile the graph\n",
    "graph.compile()"
   ]
  },
  {
   "cell_type": "code",
   "execution_count": 29,
   "id": "fadaae84",
   "metadata": {},
   "outputs": [],
   "source": [
    "result = graph.compile()"
   ]
  },
  {
   "cell_type": "code",
   "execution_count": 30,
   "id": "e209d571",
   "metadata": {},
   "outputs": [
    {
     "name": "stdout",
     "output_type": "stream",
     "text": [
      "{'question': 'What am I doing?', 'answer': 'You are currently interacting with me, a chatbot, and asking me questions.'}\n"
     ]
    }
   ],
   "source": [
    "initial_question_input = {'question':'What am I doing?'}\n",
    "response = result.invoke(initial_question_input)\n",
    "print(response)"
   ]
  }
 ],
 "metadata": {
  "kernelspec": {
   "display_name": "venv (3.10.0)",
   "language": "python",
   "name": "python3"
  },
  "language_info": {
   "codemirror_mode": {
    "name": "ipython",
    "version": 3
   },
   "file_extension": ".py",
   "mimetype": "text/x-python",
   "name": "python",
   "nbconvert_exporter": "python",
   "pygments_lexer": "ipython3",
   "version": "3.10.0"
  }
 },
 "nbformat": 4,
 "nbformat_minor": 5
}
