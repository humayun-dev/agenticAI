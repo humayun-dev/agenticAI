{
 "cells": [
  {
   "cell_type": "code",
   "execution_count": null,
   "id": "a3bddb51",
   "metadata": {},
   "outputs": [],
   "source": [
    "# To create linear workflow of finding the BMI- the inputs are the height and weight\n",
    "# Author: Muhammad Humayun Khan\n",
    "\n",
    "from langgraph.graph import StateGraph,START,END      # for graph purpose, start = first node starting point and end = tail\n",
    "from typing import TypedDict        # for the state purpose as state is stored as dictionary"
   ]
  },
  {
   "cell_type": "code",
   "execution_count": 10,
   "id": "f835031d",
   "metadata": {},
   "outputs": [],
   "source": [
    "# first need to create the state, state is a memory so we will need three things in this workflow as height, weight and bmi\n",
    "class BMI_calculator(TypedDict):\n",
    "    height_meters:float\n",
    "    weight_kg:float\n",
    "    bmi:float\n",
    "\n",
    "# function that will call when the node calculate_bmi_node executes\n",
    "# it receives input as state as object and returns object/state of the class\n",
    "def calculate_bmi(state:BMI_calculator) -> BMI_calculator:\n",
    "    weight = state['weight_kg']\n",
    "    height = state['height_meters']\n",
    "    bmi = weight/(height**2)\n",
    "\n",
    "    state['bmi'] = round(bmi,2)\n",
    "\n",
    "    return state\n",
    "\n"
   ]
  },
  {
   "cell_type": "code",
   "execution_count": 11,
   "id": "4ff62f15",
   "metadata": {},
   "outputs": [],
   "source": [
    "# now create the graph - StateGraph is used inspired by the Google Pregel Graph System\n",
    "graph = StateGraph(BMI_calculator)\n",
    "\n",
    "# add nodes to the graph - nodes are like the task or the combination of different python functions\n",
    "# first argument is node name and second is python function call\n",
    "graph.add_node('calculate_bmi_node',calculate_bmi)\n",
    "\n",
    "# add edges to the graph\n",
    "graph.add_edge(START,'calculate_bmi_node')       # the START is first node and going towards calculate_bmi\n",
    "graph.add_edge('calculate_bmi_node',END)          # from the calculate_bmi edge going towards END\n",
    "    \n",
    "# compile the graph\n",
    "result = graph.compile()"
   ]
  },
  {
   "cell_type": "code",
   "execution_count": 14,
   "id": "bbc57d29",
   "metadata": {},
   "outputs": [
    {
     "name": "stdout",
     "output_type": "stream",
     "text": [
      "{'height_meters': 1.75, 'weight_kg': 92, 'bmi': 30.04}\n"
     ]
    }
   ],
   "source": [
    "# execute the graph\n",
    "initial_input_state = {'weight_kg':92,'height_meters':1.75}\n",
    "output = result.invoke(initial_input_state)\n",
    "print(output)\n"
   ]
  }
 ],
 "metadata": {
  "kernelspec": {
   "display_name": "venv (3.10.0)",
   "language": "python",
   "name": "python3"
  },
  "language_info": {
   "codemirror_mode": {
    "name": "ipython",
    "version": 3
   },
   "file_extension": ".py",
   "mimetype": "text/x-python",
   "name": "python",
   "nbconvert_exporter": "python",
   "pygments_lexer": "ipython3",
   "version": "3.10.0"
  }
 },
 "nbformat": 4,
 "nbformat_minor": 5
}
